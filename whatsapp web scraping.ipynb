{
 "cells": [
  {
   "cell_type": "code",
   "execution_count": 1,
   "metadata": {},
   "outputs": [
    {
     "name": "stdout",
     "output_type": "stream",
     "text": "### Packages Imported ###\n2020-02-21 02:05:59.630480\n"
    }
   ],
   "source": [
    "### Imports ###\n",
    "from datetime import datetime\n",
    "from selenium import webdriver\n",
    "from selenium.webdriver.common.keys import Keys\n",
    "from selenium.common.exceptions import NoSuchElementException\n",
    "from bs4 import BeautifulSoup\n",
    "import time\n",
    "import datetime\n",
    "import Notes\n",
    "print(\"### Packages Imported ###\")\n",
    "print(datetime.datetime.now())"
   ]
  },
  {
   "cell_type": "code",
   "execution_count": 2,
   "metadata": {},
   "outputs": [
    {
     "name": "stdout",
     "output_type": "stream",
     "text": "Please Scan the QR Code\nExecute next cell after 10 seconds\n"
    }
   ],
   "source": [
    "### Loading chrome in web driver and Opening webpage ###\n",
    "driver = webdriver.Chrome()\n",
    "driver.get('http://web.whatsapp.com')\n",
    "### Waiting for QR Code to be scanned ###\n",
    "print('Please Scan the QR Code')\n",
    "print(\"Execute next cell after 10 seconds\")\n",
    "### Web page should be opened up and ready for further execution ###"
   ]
  },
  {
   "cell_type": "code",
   "execution_count": 2,
   "metadata": {},
   "outputs": [
    {
     "name": "stdout",
     "output_type": "stream",
     "text": "### Functions Defined ###\n"
    }
   ],
   "source": [
    "##############################################################################################################\n",
    "### All functions Definations\n",
    "##############################################################################################################\n",
    "\n",
    "def get_full_contactbox_info(contact_box):\n",
    "    ### Details is information dictionary to return\n",
    "    # detail = {}\n",
    "    \n",
    "    ### Getting exact contact by CSS \n",
    "    temp = contact_box.find_element_by_class_name(\"_3H4MS\")\n",
    "    cnt = str(temp.text) \n",
    "    # print(cnt)\n",
    "    ######\n",
    "\n",
    "    ### Getting first messge preview from contact box - _1Wn_k _19RFN _1ovWX _F7Vk\n",
    "    temp = contact_box.find_element_by_class_name(\"_1Wn_k\")\n",
    "    fst_msg_box = str(temp.text)\n",
    "    # print(fst_msg_box)\n",
    "\n",
    "    thisdict = {\n",
    "    \"contact\": cnt,\n",
    "    \"msg_preview\": fst_msg_box,  \n",
    "    }\n",
    "    \n",
    "    return thisdict\n",
    "############################################################################################################\n",
    "############################################################################################################\n",
    "def get_exact_contact_name_from_chat():\n",
    "    ### Getting exact contact name with _3V5x5\n",
    "    # name = contact_name.text \n",
    "    return chat_box.find_element_by_class_name(\"_3V5x5\").text\n",
    "\n",
    "\n",
    "def get_full_chatbox_info(chat_box):\n",
    "    ### Getting exact contact name with _3V5x5\n",
    "    contact_name = chat_box.find_element_by_class_name(\"_3V5x5\")\n",
    "    name = contact_name.text\n",
    "    \n",
    "    ### Getting full chat with _1ays2 ###\n",
    "    rawchatdata = ((chat_box.find_element_by_class_name(\"_1ays2\")).text).split(\"\\n\")\n",
    "    \n",
    "    ### Running loop on last 5 text messages \n",
    "    ### TODO Doing too\n",
    "    ### Cleaning chat ###\n",
    "\n",
    "    chatlist = clutfree(rawchatdata)\n",
    "    print(temp)\n",
    "\n",
    "############################################################################################################\n",
    "############################################################################################################\n",
    "\n",
    "def clutfree(chat):\n",
    "    ### Words to remove ###\n",
    "    days = \"\"\"MONDAY TUESDAY WEDNESDAY THURSDAY FRIDAY SATURDAY SUNDAY YESTERDAY TODAY\"\"\"\n",
    "        \n",
    "    ### Converted to list and added words###\n",
    "    remove_list = days.split(' ')\n",
    "    remove_list.append('AM') # Appedded AM\n",
    "    remove_list.append('PM') # Appedded PM\n",
    "    remove_list.append('UNREAD MESSAGE') # Appedded 'UNREAD MESSAGE'\n",
    "    \n",
    "    final_list = []\n",
    " \n",
    "    for word in chat:\n",
    "        # For loop\n",
    "        str=\"\"\n",
    "        str+=word\n",
    "        if str not in remove_list:\n",
    "            # (str.find(':')== -1)  :\n",
    "            print(str)\n",
    "\n",
    "            if str.find(' AM') > 0 & str.find(' PM') > 0:\n",
    "                print(str)\n",
    "\n",
    "\n",
    "\n",
    "\n",
    "            final_list.append(word)\n",
    "  \n",
    "    return final_list\n",
    "print(\"### Functions Defined ###\")\n",
    "##############################################################################################################\n",
    "### All functions Definations\n",
    "##############################################################################################################"
   ]
  },
  {
   "cell_type": "code",
   "execution_count": 3,
   "metadata": {},
   "outputs": [
    {
     "ename": "NameError",
     "evalue": "name 'time' is not defined",
     "output_type": "error",
     "traceback": [
      "\u001b[1;31m---------------------------------------------------------------------------\u001b[0m",
      "\u001b[1;31mNameError\u001b[0m                                 Traceback (most recent call last)",
      "\u001b[1;32m<ipython-input-3-bd4890a5589e>\u001b[0m in \u001b[0;36m<module>\u001b[1;34m\u001b[0m\n\u001b[0;32m      1\u001b[0m \u001b[1;31m### Refreash Page and Variables ###\u001b[0m\u001b[1;33m\u001b[0m\u001b[1;33m\u001b[0m\u001b[1;33m\u001b[0m\u001b[0m\n\u001b[1;32m----> 2\u001b[1;33m \u001b[0mtime\u001b[0m\u001b[1;33m.\u001b[0m\u001b[0msleep\u001b[0m\u001b[1;33m(\u001b[0m\u001b[1;36m1\u001b[0m\u001b[1;33m)\u001b[0m\u001b[1;33m\u001b[0m\u001b[1;33m\u001b[0m\u001b[0m\n\u001b[0m\u001b[0;32m      3\u001b[0m \u001b[0mdriver\u001b[0m\u001b[1;33m.\u001b[0m\u001b[0mrefresh\u001b[0m\u001b[1;33m(\u001b[0m\u001b[1;33m)\u001b[0m\u001b[1;33m\u001b[0m\u001b[1;33m\u001b[0m\u001b[0m\n\u001b[0;32m      4\u001b[0m \u001b[1;31m### Varaibles and Constructor behaviour ###\u001b[0m\u001b[1;33m\u001b[0m\u001b[1;33m\u001b[0m\u001b[1;33m\u001b[0m\u001b[0m\n\u001b[0;32m      5\u001b[0m \u001b[0mcontacts_\u001b[0m \u001b[1;33m=\u001b[0m \u001b[0mset\u001b[0m\u001b[1;33m(\u001b[0m\u001b[1;33m)\u001b[0m\u001b[1;33m\u001b[0m\u001b[1;33m\u001b[0m\u001b[0m\n",
      "\u001b[1;31mNameError\u001b[0m: name 'time' is not defined"
     ]
    }
   ],
   "source": [
    "### Refreash Page and Variables ###\n",
    "time.sleep(1)\n",
    "driver.refresh()\n",
    "### Varaibles and Constructor behaviour ###\n",
    "contacts_ = set()\n",
    "all_contacts = list()"
   ]
  },
  {
   "cell_type": "code",
   "execution_count": 6,
   "metadata": {},
   "outputs": [
    {
     "ename": "NameError",
     "evalue": "name 'contacts' is not defined",
     "output_type": "error",
     "traceback": [
      "\u001b[1;31m---------------------------------------------------------------------------\u001b[0m",
      "\u001b[1;31mNameError\u001b[0m                                 Traceback (most recent call last)",
      "\u001b[1;32m<ipython-input-6-0cdd50f0341d>\u001b[0m in \u001b[0;36m<module>\u001b[1;34m\u001b[0m\n\u001b[0;32m      6\u001b[0m \u001b[0mwaittime\u001b[0m \u001b[1;33m=\u001b[0m \u001b[0mwaittime\u001b[0m \u001b[1;33m/\u001b[0m \u001b[1;36m10\u001b[0m\u001b[1;33m\u001b[0m\u001b[1;33m\u001b[0m\u001b[0m\n\u001b[0;32m      7\u001b[0m \u001b[1;32mfor\u001b[0m \u001b[0mi\u001b[0m \u001b[1;32min\u001b[0m \u001b[0mrange\u001b[0m\u001b[1;33m(\u001b[0m\u001b[1;36m50\u001b[0m\u001b[1;33m)\u001b[0m\u001b[1;33m:\u001b[0m\u001b[1;33m\u001b[0m\u001b[1;33m\u001b[0m\u001b[0m\n\u001b[1;32m----> 8\u001b[1;33m     \u001b[0mprint\u001b[0m\u001b[1;33m(\u001b[0m\u001b[1;34m\"Ran for \"\u001b[0m\u001b[1;33m,\u001b[0m \u001b[0mi\u001b[0m\u001b[1;33m,\u001b[0m \u001b[1;34m\" Time\"\u001b[0m\u001b[1;33m,\u001b[0m \u001b[0mlen\u001b[0m\u001b[1;33m(\u001b[0m\u001b[0mcontacts\u001b[0m\u001b[1;33m)\u001b[0m\u001b[1;33m)\u001b[0m\u001b[1;33m\u001b[0m\u001b[1;33m\u001b[0m\u001b[0m\n\u001b[0m\u001b[0;32m      9\u001b[0m \u001b[1;33m\u001b[0m\u001b[0m\n\u001b[0;32m     10\u001b[0m     \u001b[1;31m### Got all contact boxes and chat boxes\u001b[0m\u001b[1;33m\u001b[0m\u001b[1;33m\u001b[0m\u001b[1;33m\u001b[0m\u001b[0m\n",
      "\u001b[1;31mNameError\u001b[0m: name 'contacts' is not defined"
     ]
    }
   ],
   "source": [
    "##############################################################################################################\n",
    "### Repeating further code till runlimit with a delay of wait_time, Which is multiple of 1/10 sec    \n",
    "##############################################################################################################\n",
    "runlimit = 50 \n",
    "waittime = 1\n",
    "waittime = waittime / 10\n",
    "for i in range(50):\n",
    "    print(\"Ran for \", i, \" Time\", len(contacts))\n",
    "\n",
    "    ### Got all contact boxes and chat boxes\n",
    "    tab_left_indexes = driver.find_elements_by_class_name(\"X7YrQ\")\n",
    "    tab_right_indexes = driver.find_elements_by_class_name(\"_1_keJ\")\n",
    "\n",
    "    ### Getting all info from contact box\n",
    "    \n",
    "    ### Getting contact(name or number) in string \n",
    "    for name in tab_left_indexes:\n",
    "        ### Getting all data from contact box\n",
    "        contact_details = get_full_contactbox_info(name)\n",
    "        \n",
    "        ### Backing up all contact dictionaries\n",
    "        all_contacts.append(contact_details)\n",
    "        contacts.add(contact_details.get(\"contact\"))\n",
    "    \n",
    "    \n",
    "    ##############################################################################################################\n",
    "    ### Getting contact name again(For verification) and chats        \n",
    "    for chat in tab_right_indexes:\n",
    "        temp = get_full_contactbox_info(chat)\n",
    "        print()\n",
    "    ###########################################\n",
    "\n",
    "    ### Sort all data here###\n",
    "\n",
    "    ###########################################\n",
    "    i = i + 1\n",
    "    time.sleep(.1)\n",
    "#######################################################\n",
    "#######################################################\n",
    "\n",
    "print(contacts)\n"
   ]
  },
  {
   "cell_type": "code",
   "execution_count": null,
   "metadata": {},
   "outputs": [],
   "source": [
    "tempchat = driver.find_elements_by_class_name(\"_1_keJ\")\n",
    "chatlist = clutfree(tempchat)\n",
    "print(chatlist)"
   ]
  },
  {
   "cell_type": "code",
   "execution_count": null,
   "metadata": {},
   "outputs": [],
   "source": []
  }
 ],
 "metadata": {
  "celltoolbar": "Attachments",
  "kernelspec": {
   "display_name": "Python 3.7.4 64-bit ('base': conda)",
   "language": "python",
   "name": "python37464bitbasecondadc741e185c264b30be085f56dd2c8214"
  },
  "language_info": {
   "codemirror_mode": {
    "name": "ipython",
    "version": 3
   },
   "file_extension": ".py",
   "mimetype": "text/x-python",
   "name": "python",
   "nbconvert_exporter": "python",
   "pygments_lexer": "ipython3",
   "version": "3.8.1-final"
  }
 },
 "nbformat": 4,
 "nbformat_minor": 2
}