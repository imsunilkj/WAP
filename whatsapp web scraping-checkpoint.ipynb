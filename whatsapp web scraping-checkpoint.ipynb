{
 "cells": [
  {
   "cell_type": "markdown",
   "metadata": {},
   "source": [
    "# WhatsApp Web Automation \n",
    "## Click + Get Data + Scroll Down\n",
    "##### References\n",
    "###### https://www.geekyhub.in/post/making-a-whatsapp-bot-using-python-selenium\n",
    "###### https://selenium.dev/documentation/en/getting_started_with_webdriver/performing_actions_on_the_aut/\n",
    "###### http://ashishkhan.com/blog/buddy-whatsapp-chat-bot-with-python"
   ]
  },
  {
   "cell_type": "code",
   "execution_count": 1,
   "metadata": {},
   "outputs": [
    {
     "name": "stdout",
     "output_type": "stream",
     "text": "### Packages Imported ###\n2020-02-16 06:29:10.229556\n"
    }
   ],
   "source": [
    "### Imports ###\n",
    "from datetime import datetime\n",
    "from selenium import webdriver\n",
    "from selenium.webdriver.common.keys import Keys\n",
    "from selenium.common.exceptions import NoSuchElementException\n",
    "from bs4 import BeautifulSoup\n",
    "import time\n",
    "import datetime\n",
    "\n",
    "print(\"### Packages Imported ###\")\n",
    "print(datetime.datetime.now())\n",
    "#####"
   ]
  },
  {
   "cell_type": "code",
   "execution_count": 2,
   "metadata": {},
   "outputs": [
    {
     "name": "stdout",
     "output_type": "stream",
     "text": "Please Scan the QR Code\nExecute next cell after 10 seconds\n"
    }
   ],
   "source": [
    "### Loading chrome in web driver ###\n",
    "driver = webdriver.Chrome()\n",
    "\n",
    "### Opening webpage ###\n",
    "driver.get('http://web.whatsapp.com')\n",
    "\n",
    "### Waiting for QR Code to be scanned ###\n",
    "print('Please Scan the QR Code')\n",
    "print(\"Execute next cell after 10 seconds\")\n",
    "### Web page should be opened up and ready for further execution ###"
   ]
  },
  {
   "cell_type": "code",
   "execution_count": 3,
   "metadata": {},
   "outputs": [],
   "source": [
    "### Refreash Page and Variables ###\n",
    "time.sleep(1)\n",
    "driver.refresh()\n",
    "### Varaibles and Constructor behaviour ###\n",
    "contacts = set()\n",
    "all_contacts = list()\n",
    "###########################################\n",
    "###########################################"
   ]
  },
  {
   "cell_type": "code",
   "execution_count": 5,
   "metadata": {},
   "outputs": [
    {
     "name": "stdout",
     "output_type": "stream",
     "text": "['TUESDAY', '11:52 PM', 'Ok', '11:53 PM', 'Haa jaipur kar lijo', '11:53 PM', 'Sbse paas station konso h?', '11:53 PM', 'Ksr Ya yasvantpur ?', '11:53 PM', 'Dono same he hai', '11:54 PM', 'Ya or koi', '11:54 PM', 'Ksr kar le', '11:54 PM', 'M ji station se gyo ho coimbatore', '11:54 PM', 'Biko naam yaad h?', '11:54 PM', 'Ksr kar leee', '11:54 PM', 'Bado station hai', '11:54 PM', 'Okii', '11:54 PM', 'Yaad bhi koni', '11:55 PM', 'Oki oki', '11:55 PM', '11:55 PM', 'WEDNESDAY', 'Ut gyo ki?', '4:15 PM', 'Haa utodo huuu', '4:34 PM', 'YESTERDAY', 'Uut gyo?', '3:43 PM', 'Haaa g', '5:21 PM']\n"
    }
   ],
   "source": [
    "\n",
    "def get_full_contactbox_info(contact_box):\n",
    "    ### Details is information dictionary to return\n",
    "    # detail = {}\n",
    "    \n",
    "    ### Getting exact contact by CSS \n",
    "    temp = contact_box.find_element_by_class_name(\"_3H4MS\")\n",
    "    cnt = str(temp.text) \n",
    "    # print(cnt)\n",
    "    ######\n",
    "\n",
    "    ### Getting first messge preview from contact box - _1Wn_k _19RFN _1ovWX _F7Vk\n",
    "    temp = contact_box.find_element_by_class_name(\"_1Wn_k\")\n",
    "    fst_msg_box = str(temp.text)\n",
    "    # print(fst_msg_box)\n",
    "\n",
    "    thisdict = {\n",
    "    \"contact\": cnt,\n",
    "    \"msg_preview\": fst_msg_box,  \n",
    "    }\n",
    "    \n",
    "    return thisdict\n",
    "####################################\n",
    "####################################\n",
    "# test = driver.find_element_by_class_name(\"X7YrQ\") \n",
    "# contact_details = get_full_contactbox_info(test)\n",
    "#\n",
    "# for i in contact_details:\n",
    "#    print(contact_details[i])\n",
    "#\n",
    "# print(contact_details.get(\"contact\"), contact_details.get(\"fst_msg_preview\"))\n",
    "####################################\n",
    "####################################\n",
    "\n",
    "def get_full_chatbox_info(chat_box):\n",
    "    ### Getting exact contact name with _3V5x5\n",
    "    contact_name = chat_box.find_element_by_class_name(\"_3V5x5\")\n",
    "    name = contact_name.text\n",
    "    \n",
    "    ### Getting full chat with _1ays2 ###\n",
    "    temp = ((chat_box.find_element_by_class_name(\"_1ays2\")).text).split(\"\\n\")\n",
    "    \n",
    "    ### Running loop on last 5 text messages \n",
    "    ### TODO \n",
    "    print(temp)\n",
    "####################################\n",
    "####################################\n",
    "test = driver.find_element_by_class_name(\"NuujD\") \n",
    "contact_details = get_full_chatbox_info(test)"
   ]
  },
  {
   "cell_type": "code",
   "execution_count": 8,
   "metadata": {},
   "outputs": [
    {
     "name": "stdout",
     "output_type": "stream",
     "text": "Ran for  0  Time 0\nRan for  1  Time 16\nRan for  2  Time 16\nRan for  3  Time 16\nRan for  4  Time 16\nRan for  5  Time 18\nRan for  6  Time 18\nRan for  7  Time 18\nRan for  8  Time 18\nRan for  9  Time 18\nRan for  10  Time 20\nRan for  11  Time 29\nRan for  12  Time 33\nRan for  13  Time 35\nRan for  14  Time 40\nRan for  15  Time 48\nRan for  16  Time 51\nRan for  17  Time 57\nRan for  18  Time 63\nRan for  19  Time 64\nRan for  20  Time 70\nRan for  21  Time 71\nRan for  22  Time 77\nRan for  23  Time 79\nRan for  24  Time 82\nRan for  25  Time 82\nRan for  26  Time 82\nRan for  27  Time 82\nRan for  28  Time 82\nRan for  29  Time 82\nRan for  30  Time 82\nRan for  31  Time 82\nRan for  32  Time 82\nRan for  33  Time 82\nRan for  34  Time 82\nRan for  35  Time 82\nRan for  36  Time 82\nRan for  37  Time 82\nRan for  38  Time 82\nRan for  39  Time 82\nRan for  40  Time 82\nRan for  41  Time 82\nRan for  42  Time 82\nRan for  43  Time 82\nRan for  44  Time 82\nRan for  45  Time 82\nRan for  46  Time 82\nRan for  47  Time 82\nRan for  48  Time 82\nRan for  49  Time 82\n{'Pankaj Bnglre', 'Chintu', 'Ashrant Cerner', 'HS_Team_B_Nights', 'UrbanClap', 'Himanshu', 'RK (Raj Kumar) Cerner', 'Ashutosh Bhai Cerner', 'Raghavendra Sir PG', 'Bala N', '+91 70141 62068', \"Pavan's farewell gift\", 'Meadows', 'Darshan Gowda', 'Gopal Cern', 'Ashu', 'Sanjay', 'Ocaisnal laundey', 'Modyo Nitesh', 'CRED', 'Unofficial team b night', 'Lax', 'Jeet', '+91 78368 15500', 'Nakul Ashish Pant', 'Saurabh Sinha', 'Monu', 'Sathisha Sir', 'Preksha', 'Pradeep', 'Ankit Cdac', 'Amit Cerner', 'Pavan Sir', 'Kushank', 'Happy Family', 'Niklesh', 'Neha', 'Ajay Cerner', 'Poojitha', 'Naveen Alluri', 'Anurag Cerner', 'MakeMyTrip', 'Ubereats', 'Divy', 'Leela Masi', 'Dilli Wale Launde', 'Raghav', 'Lokesh bhaiya', '+91 79763 65282', 'TEAM B (NIGHTS)', 'CernerIRC', 'Gaurav', 'Raju jiju', 'Mukesh', 'Kakabhusandi', 'Mumma', 'Janki', 'Akshay Cdac', 'Karthik', 'Lokesh Wife', 'Ankit Hatha Yoga Teacher', 'Papa', '+91 98291 51966', 'Ritu', 'Goibibo', 'Lokesh Bhaiya Office', 'Simpl', 'Neel', 'Notes', 'Prashant Kr', 'Aayush Cerner', 'Sneha Tutika New', 'Rajiv Sir', 'Punit Agarwal', 'Pulkit Singapore', 'Gonchi', 'Radha Mam', 'poojki', 'Gyan', 'Cranky', 'HS_IRC team B Night', 'Muthu'}\n"
    }
   ],
   "source": [
    "#######################################################\n",
    "#######################################################\n",
    "contacts = set()\n",
    "\n",
    "\n",
    "for i in range(50):\n",
    "    print(\"Ran for \", i, \" Time\", len(contacts))\n",
    "    i = i + 1\n",
    "    #########################################\n",
    "    ### For Block for all processing ########\n",
    "    ### Getting all app _1Jzz1 two\n",
    "    ### try _1_keJ X7YrQ\n",
    "\n",
    "    ### Got all contact boxes abd chat boxes\n",
    "    tab_left_indexes = driver.find_elements_by_class_name(\"X7YrQ\")\n",
    "    tab_right_indexes = driver.find_elements_by_class_name(\"_1_keJ\")\n",
    "\n",
    "    ### Getting all info from contact box\n",
    "\n",
    "    ### Getting contact(name or number) in string \n",
    "    for name in tab_left_indexes:\n",
    "        ### Getting all data from contact box\n",
    "        contact_details = get_full_contactbox_info(name)\n",
    "        \n",
    "        ### Backing up all contact dictionaries\n",
    "        all_contacts.append(contact_details)\n",
    "        contacts.add(contact_details.get(\"contact\"))\n",
    "    ### Getting contact name again(For verification) and chats        \n",
    "    # ~~~~~~~~~~~~~~~~~~~~~~~~~~~~~~~~~~~~~~~~~~~~~~~~~~~~~~~~~~~~~~~~~~~~~HERE # TODO Starts again from here\n",
    "    # for chat in tab_right_indexes:\n",
    "    #    print()\n",
    "    ###########################################\n",
    "\n",
    "    ### Sort all data here###\n",
    "\n",
    "    ###########################################\n",
    "    time.sleep(.1)\n",
    "print(contacts)\n",
    "#######################################################\n",
    "### Check again ###\n",
    "### all_contacts.append(contact_details) \n",
    "#######################################################    "
   ]
  },
  {
   "cell_type": "code",
   "execution_count": null,
   "metadata": {},
   "outputs": [],
   "source": [
    "print(contacts)\n",
    "print(len(contacts))"
   ]
  },
  {
   "cell_type": "code",
   "execution_count": null,
   "metadata": {},
   "outputs": [],
   "source": []
  }
 ],
 "metadata": {
  "celltoolbar": "Attachments",
  "kernelspec": {
   "display_name": "Python 3.7.4 64-bit ('base': conda)",
   "language": "python",
   "name": "python37464bitbasecondadc741e185c264b30be085f56dd2c8214"
  },
  "language_info": {
   "codemirror_mode": {
    "name": "ipython",
    "version": 3
   },
   "file_extension": ".py",
   "mimetype": "text/x-python",
   "name": "python",
   "nbconvert_exporter": "python",
   "pygments_lexer": "ipython3",
   "version": "3.7.4-final"
  }
 },
 "nbformat": 4,
 "nbformat_minor": 2
}