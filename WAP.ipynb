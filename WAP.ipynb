{
 "nbformat": 4,
 "nbformat_minor": 2,
 "metadata": {
  "language_info": {
   "name": "python",
   "codemirror_mode": {
    "name": "ipython",
    "version": 3
   },
   "version": "3.7.4-final"
  },
  "orig_nbformat": 2,
  "file_extension": ".py",
  "mimetype": "text/x-python",
  "name": "python",
  "npconvert_exporter": "python",
  "pygments_lexer": "ipython3",
  "version": 3,
  "kernelspec": {
   "name": "python37464bitbasecondadc741e185c264b30be085f56dd2c8214",
   "display_name": "Python 3.7.4 64-bit ('base': conda)"
  }
 },
 "cells": [
  {
   "cell_type": "code",
   "execution_count": null,
   "metadata": {},
   "outputs": [],
   "source": [
    "### Imports ###\n",
    "from datetime import datetime\n",
    "from selenium import webdriver\n",
    "from selenium.webdriver.common.keys import Keys\n",
    "from selenium.common.exceptions import NoSuchElementException\n",
    "from bs4 import BeautifulSoup\n",
    "import time\n",
    "import datetime\n",
    "print(\"### Packages Imported ###\")\n",
    "print(datetime.datetime.now())"
   ]
  },
  {
   "cell_type": "code",
   "execution_count": null,
   "metadata": {},
   "outputs": [],
   "source": [
    "### Loading chrome in web driver and Opening webpage ###\n",
    "driver = webdriver.Chrome()\n",
    "driver.get('http://web.whatsapp.com')\n",
    "### Waiting for QR Code to be scanned ###\n",
    "print('Please Scan the QR Code')\n",
    "print(\"Execute next cell after 10 seconds\")\n",
    "### Web page should be opened up and ready for further execution ###"
   ]
  },
  {
   "cell_type": "code",
   "execution_count": null,
   "metadata": {},
   "outputs": [],
   "source": [
    "def get_full_contactbox_info(contact_box):\n",
    "    ### Details is information dictionary to return\n",
    "    ### Getting exact contact by CSS \n",
    "    temp = contact_box.find_element_by_class_name(\"_3H4MS\")\n",
    "    cnt = str(temp.text) \n",
    "    ### Getting first message preview from contact box - _1Wn_k _19RFN _1ovWX _F7Vk\n",
    "    temp = contact_box.find_element_by_class_name(\"_1Wn_k\")\n",
    "    fst_msg_box = str(temp.text)\n",
    "    thisdict = {\n",
    "    \"contact\": cnt,\n",
    "    \"msg_preview\": fst_msg_box,  \n",
    "    }\n",
    "    return thisdict\n",
    "##############################################################################################################\n",
    "##############################################################################################################\n",
    "def get_exact_contact_name_from_chat(chat_box):\n",
    "    ### Getting exact contact name with _19vo_\n",
    "    return chat_box.find_element_by_class_name(\"_19vo_\").text\n",
    "##############################################################################################################\n",
    "##############################################################################################################"
   ]
  },
  {
   "cell_type": "code",
   "execution_count": null,
   "metadata": {},
   "outputs": [],
   "source": [
    "### Refreash Page and Variables ###\n",
    "time.sleep(1)\n",
    "driver.refresh()\n",
    "### Final Data and Constructor behaviour ###\n",
    "contacts_name_set = set()\n",
    "contacts_dict_list = list()\n",
    "chatbox_name_set = set()\n",
    "chat_contactswise_list = list()"
   ]
  },
  {
   "cell_type": "code",
   "execution_count": null,
   "metadata": {},
   "outputs": [],
   "source": [
    "##############################################################################################################\n",
    "### Repeating further code till runlimit with a delay of wait_time, wait_time is in millisecs     \n",
    "##############################################################################################################\n",
    "runlimit = 10 \n",
    "milli_sec = 50\n",
    "milli_sec = milli_sec / 1000\n",
    "\n",
    "for i in range(runlimit):\n",
    "    print(\"Ran for \", i, \" Time\", len(contacts_name_set), len(chat_contactswise_list))\n",
    "    # print(\"Ran for \", i)\n",
    "    ##############################################################################################################\n",
    "    ##############################################################################################################\n",
    "    ##########################################################\n",
    "\n",
    "    ### Got Both 1) Allcontact boxes, 2)Chat box\n",
    "    tab_left_indexes = driver.find_elements_by_class_name(\"X7YrQ\")\n",
    "    tab_right_indexes = driver.find_elements_by_class_name(\"NuujD\")\n",
    "\n",
    "    ##########################################################\n",
    "    ### Getting contact(name or number) in string \n",
    "    for name in tab_left_indexes:\n",
    "        ### Getting all data from contact box\n",
    "        contact_details = get_full_contactbox_info(name)\n",
    "        # print(contact_details.get(\"contact\"))\n",
    "        \n",
    "        ### Backing up all contact dictionaries\n",
    "        contacts_dict_list.append(contact_details)\n",
    "        contacts_name_set.add(contact_details.get(\"contact\"))\n",
    "        ### All data is stored in two data sets-> contacts_dict_list, contacts_name_set\n",
    "        \n",
    "    ##########################################################\n",
    "    ### Getting contact name again(For verification) and chats\n",
    "    for chat_box in tab_right_indexes:\n",
    "        try:\n",
    "            ### Scraping exact contact(name or number) from chat_box \n",
    "            temp = get_exact_contact_name_from_chat(chat_box)\n",
    "            chatbox_name_set.add(temp)\n",
    "        except :\n",
    "            print('### Error ###')\n",
    "\n",
    "    ##########################################################\n",
    "    ### Getting full chat ####################################\n",
    "    # TODO\n",
    "\n",
    "\n",
    "    ##############################################################################################################\n",
    "    ##############################################################################################################\n",
    "     \n",
    "\n",
    "\n",
    "\n",
    "\n",
    "\n",
    "    i = i + 1\n",
    "    time.sleep(milli_sec)\n",
    "\n",
    "print('~~~',chatbox_name_set)\n",
    "print('\\n','\\n')    \n",
    "print(\"Final Testing Output\",\" -> \", \"Contacts names set\")\n",
    "print\n",
    "print(contacts_name_set)"
   ]
  },
  {
   "cell_type": "code",
   "execution_count": null,
   "metadata": {},
   "outputs": [],
   "source": [
    "print(chatbox.text)"
   ]
  },
  {
   "cell_type": "code",
   "execution_count": null,
   "metadata": {},
   "outputs": [],
   "source": []
  }
 ]
}