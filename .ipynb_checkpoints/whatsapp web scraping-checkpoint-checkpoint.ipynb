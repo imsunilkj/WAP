{
 "cells": [
  {
   "cell_type": "markdown",
   "metadata": {},
   "source": [
    "## WhatsApp Web Automation \n",
    "### Click + Get Data + Scroll Down\n",
    "##### References\n",
    "###### https://www.geekyhub.in/post/making-a-whatsapp-bot-using-python-selenium\n",
    "###### https://selenium.dev/documentation/en/getting_started_with_webdriver/performing_actions_on_the_aut/\n",
    "###### http://ashishkhan.com/blog/buddy-whatsapp-chat-bot-with-python"
   ]
  },
  {
   "cell_type": "code",
   "execution_count": null,
   "metadata": {},
   "outputs": [],
   "source": [
    "### Imports ###\n",
    "from datetime import datetime\n",
    "from selenium import webdriver\n",
    "from selenium.webdriver.common.keys import Keys\n",
    "from selenium.common.exceptions import NoSuchElementException\n",
    "from bs4 import BeautifulSoup\n",
    "import time\n",
    "\n",
    "print(\"### Packages Imported ###\")\n",
    "#####"
   ]
  },
  {
   "cell_type": "code",
   "execution_count": null,
   "metadata": {},
   "outputs": [],
   "source": [
    "### Loading chrome in web driver ###\n",
    "driver = webdriver.Chrome()\n",
    "\n",
    "### Opening webpage ###\n",
    "driver.get('http://web.whatsapp.com')\n",
    "\n",
    "### Waiting for QR Code to be scanned ###\n",
    "print('Please Scan the QR Code and press enter')\n",
    "print(\"Execute next cell after 10 seconds\")\n",
    "### Web page should be opened up and ready for further execution ###"
   ]
  },
  {
   "cell_type": "code",
   "execution_count": null,
   "metadata": {},
   "outputs": [],
   "source": []
  },
  {
   "cell_type": "code",
   "execution_count": null,
   "metadata": {},
   "outputs": [],
   "source": [
    "### Refreash Page ###\n",
    "time.sleep(1)\n",
    "driver.refresh()\n",
    "################################\n",
    "################################"
   ]
  },
  {
   "cell_type": "code",
   "execution_count": null,
   "metadata": {},
   "outputs": [],
   "source": [
    "### Searching New Messages [CSS Class Name 'P6z4j']\n",
    "\n",
    "#driver.refresh()\n",
    "time.sleep(5)\n",
    "#contact_box = driver.find_element_by_class_name(\"_2WP9Q\")\n",
    "#contact_box.click()\n",
    "#print(contact_box)\n",
    "a = 0\n",
    "panel = driver.find_element_by_class_name('_2xINO')\n",
    "print(panel)\n",
    "for i in range(10):\n",
    "    driver.execute_script('arguments[0].scrollTop = %s' %a, panel)\n",
    "    a += 300\n",
    "\n",
    "### Sent Messages css class=\"_2Wx_5 _3LG3B\"\n",
    "#new_msg_green_color = driver.find_element_by_class_name('P6z4j')\n",
    "#new_msg_green_color.click()\n",
    "\n",
    "### Contact box### class=\"_2WP9Q\"\n",
    "#contact_box = driver.find_elements_by_class_name(\"_2WP9Q\")\n",
    "#contact_box.\n",
    "#################\n",
    "#print(content)\n",
    "### Searching \n"
   ]
  },
  {
   "cell_type": "code",
   "execution_count": null,
   "metadata": {},
   "outputs": [],
   "source": []
  }
 ],
 "metadata": {
  "kernelspec": {
   "display_name": "Python 3",
   "language": "python",
   "name": "python3"
  },
  "language_info": {
   "codemirror_mode": {
    "name": "ipython",
    "version": 3
   },
   "file_extension": ".py",
   "mimetype": "text/x-python",
   "name": "python",
   "nbconvert_exporter": "python",
   "pygments_lexer": "ipython3",
   "version": "3.7.4"
  }
 },
 "nbformat": 4,
 "nbformat_minor": 2
}
