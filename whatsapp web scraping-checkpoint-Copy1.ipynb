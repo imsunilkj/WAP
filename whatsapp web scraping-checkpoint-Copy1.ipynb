{
 "cells": [
  {
   "cell_type": "markdown",
   "metadata": {},
   "source": [
    "## WhatsApp Web Automation \n",
    "### Click + Get Data + Scroll Down\n",
    "##### References\n",
    "###### https://www.geekyhub.in/post/making-a-whatsapp-bot-using-python-selenium\n",
    "###### https://selenium.dev/documentation/en/getting_started_with_webdriver/performing_actions_on_the_aut/\n",
    "###### http://ashishkhan.com/blog/buddy-whatsapp-chat-bot-with-python"
   ]
  },
  {
   "cell_type": "code",
   "execution_count": null,
   "metadata": {},
   "outputs": [],
   "source": [
    "### Imports ###\n",
    "from datetime import datetime\n",
    "from selenium import webdriver\n",
    "from selenium.webdriver.common.keys import Keys\n",
    "from selenium.common.exceptions import NoSuchElementException\n",
    "from bs4 import BeautifulSoup\n",
    "import time\n",
    "import datetime\n",
    "\n",
    "print(\"### Packages Imported ###\")\n",
    "print(datetime.datetime.now())\n",
    "#####"
   ]
  },
  {
   "cell_type": "code",
   "execution_count": null,
   "metadata": {},
   "outputs": [],
   "source": [
    "### Loading chrome in web driver ###\n",
    "driver = webdriver.Chrome()\n",
    "\n",
    "### Opening webpage ###\n",
    "driver.get('http://web.whatsapp.com')\n",
    "\n",
    "### Waiting for QR Code to be scanned ###\n",
    "print('Please Scan the QR Code')\n",
    "print(\"Execute next cell after 10 seconds\")\n",
    "### Web page should be opened up and ready for further execution ###"
   ]
  },
  {
   "cell_type": "code",
   "execution_count": null,
   "metadata": {},
   "outputs": [],
   "source": [
    "### Refreash Page and Variables ###\n",
    "time.sleep(1)\n",
    "driver.refresh()\n",
    "### Varaibles and Constructor behaviour ###\n",
    "contacts = set()\n",
    "all_contacts = list()\n",
    "###########################################\n",
    "###########################################"
   ]
  },
  {
   "cell_type": "code",
   "execution_count": null,
   "metadata": {},
   "outputs": [],
   "source": [
    "\n",
    "def get_full_contactbox_info(contact_box):\n",
    "    ### Details is information dictionary to return\n",
    "    # detail = {}\n",
    "    \n",
    "    ### Getting exact contact by CSS \n",
    "    temp = contact_box.find_element_by_class_name(\"_3H4MS\")\n",
    "    cnt = str(temp.text) \n",
    "    # print(cnt)\n",
    "    ######\n",
    "\n",
    "    ### Getting first messge preview from contact box - _1Wn_k _19RFN _1ovWX _F7Vk\n",
    "    temp = contact_box.find_element_by_class_name(\"_1Wn_k\")\n",
    "    fst_msg_box = str(temp.text)\n",
    "    # print(fst_msg_box)\n",
    "\n",
    "    thisdict = {\n",
    "    \"contact\": cnt,\n",
    "    \"msg_preview\": fst_msg_box,  \n",
    "    }\n",
    "    \n",
    "    return thisdict\n",
    "####################################\n",
    "####################################\n",
    "# test = driver.find_element_by_class_name(\"X7YrQ\") \n",
    "# contact_details = get_full_contactbox_info(test)\n",
    "#\n",
    "# for i in contact_details:\n",
    "#    print(contact_details[i])\n",
    "#\n",
    "# print(contact_details.get(\"contact\"), contact_details.get(\"fst_msg_preview\"))\n",
    "####################################\n",
    "####################################\n",
    "\n",
    "def get_full_chatbox_info(chat_box):\n",
    "    ### Getting exact contact name with _3V5x5\n",
    "    contact_name = chat_box.find_element_by_class_name(\"_3V5x5\")\n",
    "    name = contact_name.text\n",
    "    \n",
    "    ### Getting full chat with _1ays2 ###\n",
    "    temp = ((chat_box.find_element_by_class_name(\"_1ays2\")).text).split(\"\\n\")\n",
    "    \n",
    "    ### Running loop on last 5 text messages \n",
    "    ### TODO \n",
    "\n",
    "####################################\n",
    "####################################\n",
    "test = driver.find_element_by_class_name(\"NuujD\") \n",
    "contact_details = get_full_chatbox_info(test)"
   ]
  },
  {
   "cell_type": "code",
   "execution_count": null,
   "metadata": {},
   "outputs": [],
   "source": [
    "#######################################################\n",
    "#######################################################\n",
    "contacts = set()\n",
    "\n",
    "\n",
    "for i in range(50):\n",
    "    print(\"Ran for \", i, \" Time\", len(contacts))\n",
    "    i = i + 1\n",
    "    #########################################\n",
    "    ### For Block for all processing ########\n",
    "    ### Getting all app _1Jzz1 two\n",
    "    ### try _1_keJ X7YrQ\n",
    "\n",
    "    ### Got all contact boxes abd chat boxes\n",
    "    tab_left_indexes = driver.find_elements_by_class_name(\"X7YrQ\")\n",
    "    tab_right_indexes = driver.find_elements_by_class_name(\"_1_keJ\")\n",
    "\n",
    "    ### Getting all info from contact box\n",
    "\n",
    "    ### Getting contact(name or number) in string \n",
    "    for name in tab_left_indexes:\n",
    "        ### Getting all data from contact box\n",
    "        contact_details = get_full_contactbox_info(name)\n",
    "        \n",
    "        ### Backing up all contact dictionaries\n",
    "        all_contacts.append(contact_details)\n",
    "\n",
    "    ### Getting contact name again(For verification) and chats        \n",
    "    # ~~~~~~~~~~~~~~~~~~~~~~~~~~~~~~~~~~~~~~~~~~~~~~~~~~~~~~~~~~~~~~~~~~~~~HERE # TODO Starts again from here\n",
    "    # for chat in tab_right_indexes:\n",
    "    #    print()\n",
    "    ###########################################\n",
    "\n",
    "    ### Sort all data here###\n",
    "\n",
    "    ###########################################\n",
    "    time.sleep(.1)\n",
    "print(contacts)\n",
    "#######################################################\n",
    "### Check again ###\n",
    "### all_contacts.append(contact_details) \n",
    "#######################################################    "
   ]
  },
  {
   "cell_type": "code",
   "execution_count": null,
   "metadata": {},
   "outputs": [],
   "source": [
    "print(contacts)\n",
    "print(len(contacts))"
   ]
  },
  {
   "cell_type": "code",
   "execution_count": null,
   "metadata": {},
   "outputs": [],
   "source": []
  }
 ],
 "metadata": {
  "kernelspec": {
   "display_name": "Python 3",
   "language": "python",
   "name": "python3"
  },
  "language_info": {
   "codemirror_mode": {
    "name": "ipython",
    "version": 3
   },
   "file_extension": ".py",
   "mimetype": "text/x-python",
   "name": "python",
   "nbconvert_exporter": "python",
   "pygments_lexer": "ipython3",
   "version": "3.7.4"
  }
 },
 "nbformat": 4,
 "nbformat_minor": 2
}
